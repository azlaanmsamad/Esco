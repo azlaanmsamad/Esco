{
  "nbformat": 4,
  "nbformat_minor": 0,
  "metadata": {
    "colab": {
      "name": "ESCO_job_skill_mapping.ipynb",
      "provenance": [],
      "collapsed_sections": []
    },
    "kernelspec": {
      "name": "python3",
      "display_name": "Python 3"
    },
    "accelerator": "TPU"
  },
  "cells": [
    {
      "cell_type": "code",
      "metadata": {
        "id": "ck-i0mGhm3Ao",
        "colab_type": "code",
        "colab": {}
      },
      "source": [
        "import tensorflow as tf\n",
        "import tensorflow_hub as hub\n",
        "embed = hub.load(\"https://tfhub.dev/google/universal-sentence-encoder/4\")"
      ],
      "execution_count": 0,
      "outputs": []
    },
    {
      "cell_type": "code",
      "metadata": {
        "id": "ce_6D2LuSM6o",
        "colab_type": "code",
        "colab": {}
      },
      "source": [
        "import pandas as pd\n",
        "import numpy as np\n",
        "import io\n",
        "from scipy.spatial.distance import cosine"
      ],
      "execution_count": 0,
      "outputs": []
    },
    {
      "cell_type": "code",
      "metadata": {
        "id": "Up6iadv-SRsX",
        "colab_type": "code",
        "colab": {
          "base_uri": "https://localhost:8080/",
          "height": 35
        },
        "outputId": "7563f036-55c3-415a-8e5b-580a6512a32f"
      },
      "source": [
        "# Load the Drive helper and mount\n",
        "from google.colab import drive\n",
        "\n",
        "# This will prompt for authorization.\n",
        "drive.mount('/content/drive')"
      ],
      "execution_count": 7,
      "outputs": [
        {
          "output_type": "stream",
          "text": [
            "Drive already mounted at /content/drive; to attempt to forcibly remount, call drive.mount(\"/content/drive\", force_remount=True).\n"
          ],
          "name": "stdout"
        }
      ]
    },
    {
      "cell_type": "code",
      "metadata": {
        "id": "fa8WQ0E0STnd",
        "colab_type": "code",
        "colab": {
          "base_uri": "https://localhost:8080/",
          "height": 204
        },
        "outputId": "b9b8d9ae-2d8c-447c-a014-eb4239c6598c"
      },
      "source": [
        "# Job and its description cleaned dataset.\n",
        "df_skill = pd.read_pickle('drive/My Drive/clean_esco_skill.pkl')\n",
        "df_skill.head()"
      ],
      "execution_count": 8,
      "outputs": [
        {
          "output_type": "execute_result",
          "data": {
            "text/html": [
              "<div>\n",
              "<style scoped>\n",
              "    .dataframe tbody tr th:only-of-type {\n",
              "        vertical-align: middle;\n",
              "    }\n",
              "\n",
              "    .dataframe tbody tr th {\n",
              "        vertical-align: top;\n",
              "    }\n",
              "\n",
              "    .dataframe thead th {\n",
              "        text-align: right;\n",
              "    }\n",
              "</style>\n",
              "<table border=\"1\" class=\"dataframe\">\n",
              "  <thead>\n",
              "    <tr style=\"text-align: right;\">\n",
              "      <th></th>\n",
              "      <th>skill_ID</th>\n",
              "      <th>preferredLabel</th>\n",
              "      <th>description</th>\n",
              "      <th>cleaned description</th>\n",
              "    </tr>\n",
              "  </thead>\n",
              "  <tbody>\n",
              "    <tr>\n",
              "      <th>8292</th>\n",
              "      <td>0</td>\n",
              "      <td>3D body scanning technologies</td>\n",
              "      <td>The principles and usage of technologies for 3...</td>\n",
              "      <td>principle usage technology 3d body scanning us...</td>\n",
              "    </tr>\n",
              "    <tr>\n",
              "      <th>5890</th>\n",
              "      <td>1</td>\n",
              "      <td>3D lighting</td>\n",
              "      <td>The arrangement or digital effect which simula...</td>\n",
              "      <td>arrangement digital effect simulates lighting ...</td>\n",
              "    </tr>\n",
              "    <tr>\n",
              "      <th>8075</th>\n",
              "      <td>2</td>\n",
              "      <td>3D modelling</td>\n",
              "      <td>The process of developing a mathematical repre...</td>\n",
              "      <td>process developing mathematical representation...</td>\n",
              "    </tr>\n",
              "    <tr>\n",
              "      <th>2311</th>\n",
              "      <td>3</td>\n",
              "      <td>3D printing process</td>\n",
              "      <td>The process of reproducing 3D objects by using...</td>\n",
              "      <td>process reproducing 3d object using 3d printin...</td>\n",
              "    </tr>\n",
              "    <tr>\n",
              "      <th>3334</th>\n",
              "      <td>4</td>\n",
              "      <td>3D texturing</td>\n",
              "      <td>The process of applying a type of surface to a...</td>\n",
              "      <td>process applying type surface 3d image</td>\n",
              "    </tr>\n",
              "  </tbody>\n",
              "</table>\n",
              "</div>"
            ],
            "text/plain": [
              "      skill_ID  ...                                cleaned description\n",
              "8292         0  ...  principle usage technology 3d body scanning us...\n",
              "5890         1  ...  arrangement digital effect simulates lighting ...\n",
              "8075         2  ...  process developing mathematical representation...\n",
              "2311         3  ...  process reproducing 3d object using 3d printin...\n",
              "3334         4  ...             process applying type surface 3d image\n",
              "\n",
              "[5 rows x 4 columns]"
            ]
          },
          "metadata": {
            "tags": []
          },
          "execution_count": 8
        }
      ]
    },
    {
      "cell_type": "code",
      "metadata": {
        "id": "4bnlCdXKSkaR",
        "colab_type": "code",
        "colab": {
          "base_uri": "https://localhost:8080/",
          "height": 181
        },
        "outputId": "e001dcab-ad6f-480c-f846-53434a2913c9"
      },
      "source": [
        "skill_des = df_skill['cleaned description'].values\n",
        "skill_des"
      ],
      "execution_count": 9,
      "outputs": [
        {
          "output_type": "execute_result",
          "data": {
            "text/plain": [
              "array(['principle usage technology 3d body scanning used capture size shape human body',\n",
              "       'arrangement digital effect simulates lighting 3d environment',\n",
              "       'process developing mathematical representation three-dimensional surface object via specialised software product called 3d model displayed two-dimensional image process called 3d rendering used computer simulation physical phenomenon model also physically created using 3d printing device',\n",
              "       ...,\n",
              "       'understand various factor influence effective zoo exhibit design well step towards realising design',\n",
              "       'national regional international regulation related zoo',\n",
              "       'zoonosis infectious disease animal naturally transmitted human consist wide range disease range endemic zoonosis brucellosis anthrax bovine tuberculosis parasitic disease hydatid disease echinococcosis trichinellosis rabies emerging zoonosis highly pathogenic avian influenza nipah hendra disease bovine spongiform encephalopathy'],\n",
              "      dtype=object)"
            ]
          },
          "metadata": {
            "tags": []
          },
          "execution_count": 9
        }
      ]
    },
    {
      "cell_type": "code",
      "metadata": {
        "id": "z52UHCxQYaW8",
        "colab_type": "code",
        "colab": {
          "base_uri": "https://localhost:8080/",
          "height": 35
        },
        "outputId": "e99a6f60-1128-47dc-f84f-0e33ea86d6e7"
      },
      "source": [
        "print('Total number of skills in ESCO database: ', skill_des.shape[0])"
      ],
      "execution_count": 10,
      "outputs": [
        {
          "output_type": "stream",
          "text": [
            "Total number of skills in ESCO database:  13485\n"
          ],
          "name": "stdout"
        }
      ]
    },
    {
      "cell_type": "code",
      "metadata": {
        "id": "CfEvXoUmYnpx",
        "colab_type": "code",
        "colab": {}
      },
      "source": [
        "encoded_skill_des = []\n",
        "for sentence in skill_des:\n",
        "  encoded_skill_des.append(embed([sentence]))"
      ],
      "execution_count": 0,
      "outputs": []
    },
    {
      "cell_type": "code",
      "metadata": {
        "id": "3TCSkQaxv-2q",
        "colab_type": "code",
        "colab": {}
      },
      "source": [
        "#Array of skill description as vector.\n",
        "skill_des_arr = np.asarray(encoded_skill_des)"
      ],
      "execution_count": 0,
      "outputs": []
    },
    {
      "cell_type": "code",
      "metadata": {
        "id": "NsOmX7gfwrgN",
        "colab_type": "code",
        "colab": {
          "base_uri": "https://localhost:8080/",
          "height": 35
        },
        "outputId": "56501bcc-cf41-4c4f-8474-f34cdeb8973a"
      },
      "source": [
        "skill_des_arr.shape"
      ],
      "execution_count": 13,
      "outputs": [
        {
          "output_type": "execute_result",
          "data": {
            "text/plain": [
              "(13485, 1, 512)"
            ]
          },
          "metadata": {
            "tags": []
          },
          "execution_count": 13
        }
      ]
    },
    {
      "cell_type": "code",
      "metadata": {
        "id": "T2wQX0mBwtuy",
        "colab_type": "code",
        "colab": {
          "base_uri": "https://localhost:8080/",
          "height": 35
        },
        "outputId": "80bb7e1f-84b9-4f98-a1db-fa8dcf7e61e1"
      },
      "source": [
        "np.unique(encoded_skill_des[0] == skill_des_arr[0])"
      ],
      "execution_count": 14,
      "outputs": [
        {
          "output_type": "execute_result",
          "data": {
            "text/plain": [
              "array([ True])"
            ]
          },
          "metadata": {
            "tags": []
          },
          "execution_count": 14
        }
      ]
    },
    {
      "cell_type": "code",
      "metadata": {
        "id": "DMzfENlrz2xB",
        "colab_type": "code",
        "colab": {
          "base_uri": "https://localhost:8080/",
          "height": 452
        },
        "outputId": "6769c8bd-75fe-49d6-db68-91e711ad5419"
      },
      "source": [
        "from sklearn.metrics.pairwise import cosine_similarity\n",
        "import seaborn as sns\n",
        "import matplotlib.pylab as plt\n",
        "d = skill_des_arr[0:5].squeeze(axis=1)\n",
        "similarity = cosine_similarity(d)\n",
        "ax = sns.heatmap(similarity, linewidth=0.5, yticklabels=df_skill['preferredLabel'][0:5],\n",
        "                 xticklabels=df_skill['preferredLabel'][0:5])\n",
        "plt.show()"
      ],
      "execution_count": 15,
      "outputs": [
        {
          "output_type": "stream",
          "text": [
            "/usr/local/lib/python3.6/dist-packages/statsmodels/tools/_testing.py:19: FutureWarning: pandas.util.testing is deprecated. Use the functions in the public API at pandas.testing instead.\n",
            "  import pandas.util.testing as tm\n"
          ],
          "name": "stderr"
        },
        {
          "output_type": "display_data",
          "data": {
            "image/png": "[encoded data removed]",
            "text/plain": [
              "<Figure size 432x288 with 2 Axes>"
            ]
          },
          "metadata": {
            "tags": []
          }
        }
      ]
    },
    {
      "cell_type": "code",
      "metadata": {
        "id": "3meyTOB30eBm",
        "colab_type": "code",
        "colab": {
          "base_uri": "https://localhost:8080/",
          "height": 145
        },
        "outputId": "5b1542d4-e983-478a-f095-9100c7185917"
      },
      "source": [
        "# The skill description for the first 5 skills.\n",
        "df_skill['description'][0:5].values"
      ],
      "execution_count": 16,
      "outputs": [
        {
          "output_type": "execute_result",
          "data": {
            "text/plain": [
              "array(['The principles and usage of technologies for 3D body scanning used to capture the size and shape of the human body.',\n",
              "       'The arrangement or digital effect which simulates lighting in a 3D environment.',\n",
              "       'The process of developing a mathematical representation of any three-dimensional surface of an object via specialised software. The product is called a 3D model. It can be displayed as a two-dimensional image through a process called 3D rendering or used in a computer simulation of physical phenomena. The model can also be physically created using 3D printing devices.',\n",
              "       'The process of reproducing 3D objects by using 3D printing technologies.',\n",
              "       'The process of applying a type of surface to a 3D image.'],\n",
              "      dtype=object)"
            ]
          },
          "metadata": {
            "tags": []
          },
          "execution_count": 16
        }
      ]
    },
    {
      "cell_type": "code",
      "metadata": {
        "id": "JV5vUHcUwt9n",
        "colab_type": "code",
        "colab": {
          "base_uri": "https://localhost:8080/",
          "height": 204
        },
        "outputId": "885fcde6-e848-4576-da3a-158a209936cf"
      },
      "source": [
        "# Skill and its description cleaned dataset.\n",
        "df_job = pd.read_pickle('drive/My Drive/clean_esco_job.pkl')\n",
        "df_job.head()"
      ],
      "execution_count": 17,
      "outputs": [
        {
          "output_type": "execute_result",
          "data": {
            "text/html": [
              "<div>\n",
              "<style scoped>\n",
              "    .dataframe tbody tr th:only-of-type {\n",
              "        vertical-align: middle;\n",
              "    }\n",
              "\n",
              "    .dataframe tbody tr th {\n",
              "        vertical-align: top;\n",
              "    }\n",
              "\n",
              "    .dataframe thead th {\n",
              "        text-align: right;\n",
              "    }\n",
              "</style>\n",
              "<table border=\"1\" class=\"dataframe\">\n",
              "  <thead>\n",
              "    <tr style=\"text-align: right;\">\n",
              "      <th></th>\n",
              "      <th>occupation_ID</th>\n",
              "      <th>preferredLabel</th>\n",
              "      <th>description</th>\n",
              "      <th>mid_description</th>\n",
              "      <th>cleaned description</th>\n",
              "    </tr>\n",
              "  </thead>\n",
              "  <tbody>\n",
              "    <tr>\n",
              "      <th>992</th>\n",
              "      <td>0</td>\n",
              "      <td>3D animator</td>\n",
              "      <td>3D animators are in charge of animating 3D mod...</td>\n",
              "      <td>[3d, animator, charge, animating, model, objec...</td>\n",
              "      <td>3d animator charge animating model object virt...</td>\n",
              "    </tr>\n",
              "    <tr>\n",
              "      <th>2203</th>\n",
              "      <td>1</td>\n",
              "      <td>3D modeller</td>\n",
              "      <td>3D modellers design 3D models of objects, virt...</td>\n",
              "      <td>[3d, modeller, design, model, object, virtual,...</td>\n",
              "      <td>3d modeller design model object virtual enviro...</td>\n",
              "    </tr>\n",
              "    <tr>\n",
              "      <th>918</th>\n",
              "      <td>2</td>\n",
              "      <td>3D printing technician</td>\n",
              "      <td>3D Printing technicians assist in the designin...</td>\n",
              "      <td>[3d, printing, technician, assist, designing, ...</td>\n",
              "      <td>3d printing technician assist designing progra...</td>\n",
              "    </tr>\n",
              "    <tr>\n",
              "      <th>859</th>\n",
              "      <td>3</td>\n",
              "      <td>ATM repair technician</td>\n",
              "      <td>ATM repair technicians install, diagnose, main...</td>\n",
              "      <td>[atm, repair, technician, install, diagnose, m...</td>\n",
              "      <td>atm repair technician install diagnose maintai...</td>\n",
              "    </tr>\n",
              "    <tr>\n",
              "      <th>1678</th>\n",
              "      <td>4</td>\n",
              "      <td>Freinet school teacher</td>\n",
              "      <td>Freinet school teachers educate students using...</td>\n",
              "      <td>[freinet, school, teacher, educate, student, u...</td>\n",
              "      <td>freinet school teacher educate student using a...</td>\n",
              "    </tr>\n",
              "  </tbody>\n",
              "</table>\n",
              "</div>"
            ],
            "text/plain": [
              "      occupation_ID  ...                                cleaned description\n",
              "992               0  ...  3d animator charge animating model object virt...\n",
              "2203              1  ...  3d modeller design model object virtual enviro...\n",
              "918               2  ...  3d printing technician assist designing progra...\n",
              "859               3  ...  atm repair technician install diagnose maintai...\n",
              "1678              4  ...  freinet school teacher educate student using a...\n",
              "\n",
              "[5 rows x 5 columns]"
            ]
          },
          "metadata": {
            "tags": []
          },
          "execution_count": 17
        }
      ]
    },
    {
      "cell_type": "code",
      "metadata": {
        "id": "efew7U-95zbG",
        "colab_type": "code",
        "colab": {
          "base_uri": "https://localhost:8080/",
          "height": 181
        },
        "outputId": "f918a888-0d8d-4eec-845c-855bac2ae8d8"
      },
      "source": [
        "job_des = df_job['cleaned description'].values\n",
        "job_des"
      ],
      "execution_count": 18,
      "outputs": [
        {
          "output_type": "execute_result",
          "data": {
            "text/plain": [
              "array(['3d animator charge animating model object virtual environment layout character animated agent',\n",
              "       '3d modeller design model object virtual environment layout character animated agent',\n",
              "       '3d printing technician assist designing programming product ranging prosthetic miniature may also provide maintenance check render customer run test repair maintain clean printer',\n",
              "       ...,\n",
              "       'zoo section leader responsible managing leading team keeper carry daily care management animal well cooperation colleague long term organisation specie exhibit also accountable various aspect staff depending size may additional responsibility appointing budgeting',\n",
              "       'zookeepers manage animal kept captivity conservation education research displayed public usually responsible feeding daily care welfare part routine clean exhibit report possible health problem may also involved particular scientific conducting guided tour answering question',\n",
              "       'zoology technician provide technical assistance researching testing animal specie using laboratory equipment aid research concerning well environment ecosystem collect analyse data compile report maintain stock'],\n",
              "      dtype=object)"
            ]
          },
          "metadata": {
            "tags": []
          },
          "execution_count": 18
        }
      ]
    },
    {
      "cell_type": "code",
      "metadata": {
        "id": "cP5suQoW9089",
        "colab_type": "code",
        "colab": {
          "base_uri": "https://localhost:8080/",
          "height": 35
        },
        "outputId": "3b0da4bb-ed3b-4ca2-aee1-ef9881e8f429"
      },
      "source": [
        "print('Total number of jobs in ESCO database: ', job_des.shape[0])"
      ],
      "execution_count": 19,
      "outputs": [
        {
          "output_type": "stream",
          "text": [
            "Total number of jobs in ESCO database:  2942\n"
          ],
          "name": "stdout"
        }
      ]
    },
    {
      "cell_type": "code",
      "metadata": {
        "id": "dfuoPdn46YhM",
        "colab_type": "code",
        "colab": {}
      },
      "source": [
        "encoded_job_des = []\n",
        "for sentence in job_des:\n",
        "  encoded_job_des.append(embed([sentence]))"
      ],
      "execution_count": 0,
      "outputs": []
    },
    {
      "cell_type": "code",
      "metadata": {
        "id": "d73QtuDA6yIT",
        "colab_type": "code",
        "colab": {
          "base_uri": "https://localhost:8080/",
          "height": 71
        },
        "outputId": "5e696a79-b4b6-4b75-a64d-2f8bd77ba285"
      },
      "source": [
        "print(type(encoded_job_des))\n",
        "print(len(encoded_job_des))\n",
        "print(encoded_job_des[0].shape)"
      ],
      "execution_count": 21,
      "outputs": [
        {
          "output_type": "stream",
          "text": [
            "<class 'list'>\n",
            "2942\n",
            "(1, 512)\n"
          ],
          "name": "stdout"
        }
      ]
    },
    {
      "cell_type": "code",
      "metadata": {
        "id": "GXRw_Ux67XCt",
        "colab_type": "code",
        "colab": {
          "base_uri": "https://localhost:8080/",
          "height": 35
        },
        "outputId": "3084e56d-3850-464f-d133-3e95cf44174c"
      },
      "source": [
        "job_des_arr = np.asarray(encoded_job_des)\n",
        "print(job_des_arr.shape)"
      ],
      "execution_count": 22,
      "outputs": [
        {
          "output_type": "stream",
          "text": [
            "(2942, 1, 512)\n"
          ],
          "name": "stdout"
        }
      ]
    },
    {
      "cell_type": "code",
      "metadata": {
        "id": "hfw-wxOY_Jhy",
        "colab_type": "code",
        "colab": {
          "base_uri": "https://localhost:8080/",
          "height": 371
        },
        "outputId": "11c329a9-1a42-4cb7-fb7b-a71d659edf5c"
      },
      "source": [
        "from sklearn.metrics.pairwise import cosine_similarity\n",
        "import seaborn as sns\n",
        "import matplotlib.pylab as plt\n",
        "c = job_des_arr[0:5].squeeze(axis=1)\n",
        "job_similarity = cosine_similarity(c)\n",
        "ax = sns.heatmap(job_similarity, linewidth=0.5, yticklabels=df_job['preferredLabel'][0:5],\n",
        "                 xticklabels=df_job['preferredLabel'][0:5])\n",
        "plt.show()"
      ],
      "execution_count": 23,
      "outputs": [
        {
          "output_type": "display_data",
          "data": {
            "image/png": "[encoded data removed]",
            "text/plain": [
              "<Figure size 432x288 with 2 Axes>"
            ]
          },
          "metadata": {
            "tags": []
          }
        }
      ]
    },
    {
      "cell_type": "code",
      "metadata": {
        "id": "u6G_JC4zK3VX",
        "colab_type": "code",
        "colab": {}
      },
      "source": [
        "job_des_arr = job_des_arr.squeeze(axis=1)\n",
        "skill_des_arr = skill_des_arr.squeeze(axis=1)"
      ],
      "execution_count": 0,
      "outputs": []
    },
    {
      "cell_type": "code",
      "metadata": {
        "id": "Vf0tq2R-ChNx",
        "colab_type": "code",
        "colab": {
          "base_uri": "https://localhost:8080/",
          "height": 251
        },
        "outputId": "96321269-1b97-4b48-f9f9-fd2ac7837989"
      },
      "source": [
        "# Cosine similarity between job and skill description.\n",
        "job_skill_similarity_matrix = cosine_similarity(job_des_arr, skill_des_arr, dense_output=False)\n",
        "job_skill_similarity_matrix"
      ],
      "execution_count": 25,
      "outputs": [
        {
          "output_type": "execute_result",
          "data": {
            "text/plain": [
              "array([[ 0.27493984,  0.42456955,  0.4467879 , ...,  0.18166164,\n",
              "         0.12577596,  0.07130111],\n",
              "       [ 0.3329512 ,  0.45373595,  0.48673302, ...,  0.2850515 ,\n",
              "         0.16000673,  0.05192504],\n",
              "       [ 0.2562403 ,  0.10224476,  0.4230328 , ...,  0.13987097,\n",
              "        -0.02399375,  0.02121677],\n",
              "       ...,\n",
              "       [-0.00509913, -0.06636559, -0.04720121, ...,  0.32300976,\n",
              "         0.0457207 ,  0.16395505],\n",
              "       [ 0.01982412, -0.00676913,  0.07690175, ...,  0.266163  ,\n",
              "         0.11737898,  0.30438542],\n",
              "       [ 0.21197313,  0.05642768,  0.15936956, ...,  0.24323195,\n",
              "         0.04461463,  0.23099509]], dtype=float32)"
            ]
          },
          "metadata": {
            "tags": []
          },
          "execution_count": 25
        }
      ]
    },
    {
      "cell_type": "code",
      "metadata": {
        "id": "_lyhD-y_Kkvi",
        "colab_type": "code",
        "colab": {
          "base_uri": "https://localhost:8080/",
          "height": 35
        },
        "outputId": "7a7307c3-997d-47dd-fb0f-7f6ef7d86119"
      },
      "source": [
        "job_skill_similarity_matrix.shape"
      ],
      "execution_count": 26,
      "outputs": [
        {
          "output_type": "execute_result",
          "data": {
            "text/plain": [
              "(2942, 13485)"
            ]
          },
          "metadata": {
            "tags": []
          },
          "execution_count": 26
        }
      ]
    },
    {
      "cell_type": "code",
      "metadata": {
        "id": "y_nHsNfgLXXs",
        "colab_type": "code",
        "colab": {
          "base_uri": "https://localhost:8080/",
          "height": 426
        },
        "outputId": "db0b15ab-0239-4d62-f845-f8bd46c7c58c"
      },
      "source": [
        "ax = sns.heatmap(job_skill_similarity_matrix[:5,:5], linewidth=0.5, yticklabels=df_job['preferredLabel'][0:5],\n",
        "                 xticklabels=df_skill['preferredLabel'][0:5], annot=True)\n",
        "plt.xlabel('Skills')\n",
        "plt.ylabel('Occupations')\n",
        "plt.show()"
      ],
      "execution_count": 27,
      "outputs": [
        {
          "output_type": "display_data",
          "data": {
            "image/png": "[encoded data removed]",
            "text/plain": [
              "<Figure size 432x288 with 2 Axes>"
            ]
          },
          "metadata": {
            "tags": []
          }
        }
      ]
    },
    {
      "cell_type": "code",
      "metadata": {
        "id": "oQIKOxzPL4om",
        "colab_type": "code",
        "colab": {}
      },
      "source": [
        "skill_job_complementarity = np.argmax(job_skill_similarity_matrix, axis=1)"
      ],
      "execution_count": 0,
      "outputs": []
    },
    {
      "cell_type": "code",
      "metadata": {
        "id": "NMeSt6SxQ9Za",
        "colab_type": "code",
        "colab": {
          "base_uri": "https://localhost:8080/",
          "height": 35
        },
        "outputId": "41066a1c-c267-4f71-c601-208091e1a529"
      },
      "source": [
        "skill_job_complementarity"
      ],
      "execution_count": 29,
      "outputs": [
        {
          "output_type": "execute_result",
          "data": {
            "text/plain": [
              "array([ 3021,  2960, 12795, ..., 11736,  1950, 11792])"
            ]
          },
          "metadata": {
            "tags": []
          },
          "execution_count": 29
        }
      ]
    },
    {
      "cell_type": "code",
      "metadata": {
        "id": "gFinplhUR4YN",
        "colab_type": "code",
        "colab": {
          "base_uri": "https://localhost:8080/",
          "height": 35
        },
        "outputId": "9e6dd6ae-863a-4158-8463-f0681cfd886d"
      },
      "source": [
        "skill_job_complementarity.shape"
      ],
      "execution_count": 30,
      "outputs": [
        {
          "output_type": "execute_result",
          "data": {
            "text/plain": [
              "(2942,)"
            ]
          },
          "metadata": {
            "tags": []
          },
          "execution_count": 30
        }
      ]
    },
    {
      "cell_type": "code",
      "metadata": {
        "id": "plhMHiI9T0oA",
        "colab_type": "code",
        "colab": {}
      },
      "source": [
        "df_skill.reset_index(inplace=True)"
      ],
      "execution_count": 0,
      "outputs": []
    },
    {
      "cell_type": "code",
      "metadata": {
        "id": "nc0ugpd8T_6W",
        "colab_type": "code",
        "colab": {}
      },
      "source": [
        "del df_skill['index']"
      ],
      "execution_count": 0,
      "outputs": []
    },
    {
      "cell_type": "code",
      "metadata": {
        "id": "U808yyLmUGhn",
        "colab_type": "code",
        "colab": {
          "base_uri": "https://localhost:8080/",
          "height": 204
        },
        "outputId": "ec694a3b-132f-4b06-cc4c-4e7c2de5251f"
      },
      "source": [
        "df_skill.head()"
      ],
      "execution_count": 33,
      "outputs": [
        {
          "output_type": "execute_result",
          "data": {
            "text/html": [
              "<div>\n",
              "<style scoped>\n",
              "    .dataframe tbody tr th:only-of-type {\n",
              "        vertical-align: middle;\n",
              "    }\n",
              "\n",
              "    .dataframe tbody tr th {\n",
              "        vertical-align: top;\n",
              "    }\n",
              "\n",
              "    .dataframe thead th {\n",
              "        text-align: right;\n",
              "    }\n",
              "</style>\n",
              "<table border=\"1\" class=\"dataframe\">\n",
              "  <thead>\n",
              "    <tr style=\"text-align: right;\">\n",
              "      <th></th>\n",
              "      <th>skill_ID</th>\n",
              "      <th>preferredLabel</th>\n",
              "      <th>description</th>\n",
              "      <th>cleaned description</th>\n",
              "    </tr>\n",
              "  </thead>\n",
              "  <tbody>\n",
              "    <tr>\n",
              "      <th>0</th>\n",
              "      <td>0</td>\n",
              "      <td>3D body scanning technologies</td>\n",
              "      <td>The principles and usage of technologies for 3...</td>\n",
              "      <td>principle usage technology 3d body scanning us...</td>\n",
              "    </tr>\n",
              "    <tr>\n",
              "      <th>1</th>\n",
              "      <td>1</td>\n",
              "      <td>3D lighting</td>\n",
              "      <td>The arrangement or digital effect which simula...</td>\n",
              "      <td>arrangement digital effect simulates lighting ...</td>\n",
              "    </tr>\n",
              "    <tr>\n",
              "      <th>2</th>\n",
              "      <td>2</td>\n",
              "      <td>3D modelling</td>\n",
              "      <td>The process of developing a mathematical repre...</td>\n",
              "      <td>process developing mathematical representation...</td>\n",
              "    </tr>\n",
              "    <tr>\n",
              "      <th>3</th>\n",
              "      <td>3</td>\n",
              "      <td>3D printing process</td>\n",
              "      <td>The process of reproducing 3D objects by using...</td>\n",
              "      <td>process reproducing 3d object using 3d printin...</td>\n",
              "    </tr>\n",
              "    <tr>\n",
              "      <th>4</th>\n",
              "      <td>4</td>\n",
              "      <td>3D texturing</td>\n",
              "      <td>The process of applying a type of surface to a...</td>\n",
              "      <td>process applying type surface 3d image</td>\n",
              "    </tr>\n",
              "  </tbody>\n",
              "</table>\n",
              "</div>"
            ],
            "text/plain": [
              "   skill_ID  ...                                cleaned description\n",
              "0         0  ...  principle usage technology 3d body scanning us...\n",
              "1         1  ...  arrangement digital effect simulates lighting ...\n",
              "2         2  ...  process developing mathematical representation...\n",
              "3         3  ...  process reproducing 3d object using 3d printin...\n",
              "4         4  ...             process applying type surface 3d image\n",
              "\n",
              "[5 rows x 4 columns]"
            ]
          },
          "metadata": {
            "tags": []
          },
          "execution_count": 33
        }
      ]
    },
    {
      "cell_type": "code",
      "metadata": {
        "id": "JVmb7ngHQ_GC",
        "colab_type": "code",
        "colab": {
          "base_uri": "https://localhost:8080/",
          "height": 419
        },
        "outputId": "379ffb9f-09be-432a-a369-9b71e9c5245d"
      },
      "source": [
        "data = pd.DataFrame({'Job': df_job['preferredLabel'], \n",
        "                     'Top Skill':df_skill.loc[skill_job_complementarity]['preferredLabel'].values})\n",
        "data"
      ],
      "execution_count": 34,
      "outputs": [
        {
          "output_type": "execute_result",
          "data": {
            "text/html": [
              "<div>\n",
              "<style scoped>\n",
              "    .dataframe tbody tr th:only-of-type {\n",
              "        vertical-align: middle;\n",
              "    }\n",
              "\n",
              "    .dataframe tbody tr th {\n",
              "        vertical-align: top;\n",
              "    }\n",
              "\n",
              "    .dataframe thead th {\n",
              "        text-align: right;\n",
              "    }\n",
              "</style>\n",
              "<table border=\"1\" class=\"dataframe\">\n",
              "  <thead>\n",
              "    <tr style=\"text-align: right;\">\n",
              "      <th></th>\n",
              "      <th>Job</th>\n",
              "      <th>Top Skill</th>\n",
              "    </tr>\n",
              "  </thead>\n",
              "  <tbody>\n",
              "    <tr>\n",
              "      <th>992</th>\n",
              "      <td>3D animator</td>\n",
              "      <td>create digital images</td>\n",
              "    </tr>\n",
              "    <tr>\n",
              "      <th>2203</th>\n",
              "      <td>3D modeller</td>\n",
              "      <td>create 3D environments</td>\n",
              "    </tr>\n",
              "    <tr>\n",
              "      <th>918</th>\n",
              "      <td>3D printing technician</td>\n",
              "      <td>use CAD for soles</td>\n",
              "    </tr>\n",
              "    <tr>\n",
              "      <th>859</th>\n",
              "      <td>ATM repair technician</td>\n",
              "      <td>maintain operations of vending machines</td>\n",
              "    </tr>\n",
              "    <tr>\n",
              "      <th>1678</th>\n",
              "      <td>Freinet school teacher</td>\n",
              "      <td>apply Freinet teaching strategies</td>\n",
              "    </tr>\n",
              "    <tr>\n",
              "      <th>...</th>\n",
              "      <td>...</td>\n",
              "      <td>...</td>\n",
              "    </tr>\n",
              "    <tr>\n",
              "      <th>1490</th>\n",
              "      <td>zoo educator</td>\n",
              "      <td>zoo community</td>\n",
              "    </tr>\n",
              "    <tr>\n",
              "      <th>2682</th>\n",
              "      <td>zoo registrar</td>\n",
              "      <td>produce reports based on animal records</td>\n",
              "    </tr>\n",
              "    <tr>\n",
              "      <th>1179</th>\n",
              "      <td>zoo section leader</td>\n",
              "      <td>supervise well operations</td>\n",
              "    </tr>\n",
              "    <tr>\n",
              "      <th>2835</th>\n",
              "      <td>zookeeper</td>\n",
              "      <td>carry out veterinary professional communicatio...</td>\n",
              "    </tr>\n",
              "    <tr>\n",
              "      <th>2934</th>\n",
              "      <td>zoology technician</td>\n",
              "      <td>support veterinary diagnostic procedures</td>\n",
              "    </tr>\n",
              "  </tbody>\n",
              "</table>\n",
              "<p>2942 rows × 2 columns</p>\n",
              "</div>"
            ],
            "text/plain": [
              "                         Job                                          Top Skill\n",
              "992              3D animator                              create digital images\n",
              "2203             3D modeller                             create 3D environments\n",
              "918   3D printing technician                                  use CAD for soles\n",
              "859    ATM repair technician            maintain operations of vending machines\n",
              "1678  Freinet school teacher                  apply Freinet teaching strategies\n",
              "...                      ...                                                ...\n",
              "1490            zoo educator                                      zoo community\n",
              "2682           zoo registrar            produce reports based on animal records\n",
              "1179      zoo section leader                          supervise well operations\n",
              "2835               zookeeper  carry out veterinary professional communicatio...\n",
              "2934      zoology technician           support veterinary diagnostic procedures\n",
              "\n",
              "[2942 rows x 2 columns]"
            ]
          },
          "metadata": {
            "tags": []
          },
          "execution_count": 34
        }
      ]
    },
    {
      "cell_type": "code",
      "metadata": {
        "id": "KkPkVL82SW3F",
        "colab_type": "code",
        "colab": {
          "base_uri": "https://localhost:8080/",
          "height": 143
        },
        "outputId": "aa77dbef-a5d4-44e5-ce99-fd9cff06abb5"
      },
      "source": [
        "sorted_indices = np.argsort(job_skill_similarity_matrix, axis=1)\n",
        "sorted_indices "
      ],
      "execution_count": 35,
      "outputs": [
        {
          "output_type": "execute_result",
          "data": {
            "text/plain": [
              "array([[10031, 11715,  2454, ...,  3052,  3094,  3021],\n",
              "       [10031, 10503,   999, ...,   918,  2959,  2960],\n",
              "       [12482,  5564, 12513, ..., 12794, 12793, 12795],\n",
              "       ...,\n",
              "       [12600, 12646,   225, ...,  6204,  2658, 11736],\n",
              "       [ 2312,    32,  4162, ...,  1338,  8032,  1950],\n",
              "       [11097, 11110,  2189, ..., 10360, 11925, 11792]])"
            ]
          },
          "metadata": {
            "tags": []
          },
          "execution_count": 35
        }
      ]
    },
    {
      "cell_type": "code",
      "metadata": {
        "id": "pbL7nx-9b0MJ",
        "colab_type": "code",
        "colab": {
          "base_uri": "https://localhost:8080/",
          "height": 35
        },
        "outputId": "8d6efb5a-c726-49aa-c002-80145dcdc9f7"
      },
      "source": [
        "sorted_indices[:, -2]"
      ],
      "execution_count": 36,
      "outputs": [
        {
          "output_type": "execute_result",
          "data": {
            "text/plain": [
              "array([ 3094,  2959, 12793, ...,  2658,  8032, 11925])"
            ]
          },
          "metadata": {
            "tags": []
          },
          "execution_count": 36
        }
      ]
    },
    {
      "cell_type": "code",
      "metadata": {
        "id": "NnE_lcz-ZcDa",
        "colab_type": "code",
        "colab": {}
      },
      "source": [
        "data.reset_index(inplace=True, drop=True)"
      ],
      "execution_count": 0,
      "outputs": []
    },
    {
      "cell_type": "code",
      "metadata": {
        "id": "KQcsOF5zXmYs",
        "colab_type": "code",
        "colab": {}
      },
      "source": [
        "second_best_ind = sorted_indices[:, -2]\n",
        "data['second_best_skill'] = df_skill.loc[second_best_ind]['preferredLabel'].values\n",
        "#data"
      ],
      "execution_count": 0,
      "outputs": []
    },
    {
      "cell_type": "code",
      "metadata": {
        "id": "nQgTXKqGc6D0",
        "colab_type": "code",
        "colab": {}
      },
      "source": [
        "third_best_ind = sorted_indices[:, -3]\n",
        "data['third_best_skill'] = df_skill.loc[third_best_ind]['preferredLabel'].values"
      ],
      "execution_count": 0,
      "outputs": []
    },
    {
      "cell_type": "code",
      "metadata": {
        "colab_type": "code",
        "id": "IQeYAeoMezHg",
        "colab": {}
      },
      "source": [
        "for i in range(-4, -11, -1):\n",
        "  data[i] = df_skill.loc[sorted_indices[:, i]]['preferredLabel'].values"
      ],
      "execution_count": 0,
      "outputs": []
    },
    {
      "cell_type": "code",
      "metadata": {
        "id": "Ta6GYVTOZi31",
        "colab_type": "code",
        "colab": {}
      },
      "source": [
        "data.rename(columns={-4: 'fourth_best_skill',\n",
        "                     -5: 'fifth_best_skill',\n",
        "                     -6: 'sixth_best_skill',\n",
        "                     -7: \"seventh_best_skill\",\n",
        "                     -8: 'eighth_best_skill',\n",
        "                     -9: 'ninth_best_skill',\n",
        "                     -10: 'tenth_best_skill'}, inplace= True)"
      ],
      "execution_count": 0,
      "outputs": []
    },
    {
      "cell_type": "code",
      "metadata": {
        "id": "BdbUfO_5gw8f",
        "colab_type": "code",
        "colab": {
          "base_uri": "https://localhost:8080/",
          "height": 340
        },
        "outputId": "7d5c915d-1305-48fd-a769-b6a2e4dcaebb"
      },
      "source": [
        "data.head()"
      ],
      "execution_count": 50,
      "outputs": [
        {
          "output_type": "execute_result",
          "data": {
            "text/html": [
              "<div>\n",
              "<style scoped>\n",
              "    .dataframe tbody tr th:only-of-type {\n",
              "        vertical-align: middle;\n",
              "    }\n",
              "\n",
              "    .dataframe tbody tr th {\n",
              "        vertical-align: top;\n",
              "    }\n",
              "\n",
              "    .dataframe thead th {\n",
              "        text-align: right;\n",
              "    }\n",
              "</style>\n",
              "<table border=\"1\" class=\"dataframe\">\n",
              "  <thead>\n",
              "    <tr style=\"text-align: right;\">\n",
              "      <th></th>\n",
              "      <th>Job</th>\n",
              "      <th>Top Skill</th>\n",
              "      <th>second_best_skill</th>\n",
              "      <th>third_best_skill</th>\n",
              "      <th>fourth_best_skill</th>\n",
              "      <th>fifth_best_skill</th>\n",
              "      <th>sixth_best_skill</th>\n",
              "      <th>seventh_best_skill</th>\n",
              "      <th>eighth_best_skill</th>\n",
              "      <th>ninth_best_skill</th>\n",
              "      <th>tenth_best_skill</th>\n",
              "    </tr>\n",
              "  </thead>\n",
              "  <tbody>\n",
              "    <tr>\n",
              "      <th>0</th>\n",
              "      <td>3D animator</td>\n",
              "      <td>create digital images</td>\n",
              "      <td>create storyboards</td>\n",
              "      <td>create moving images</td>\n",
              "      <td>create 3D environments</td>\n",
              "      <td>create 3D characters</td>\n",
              "      <td>render 3D images</td>\n",
              "      <td>principles of animation</td>\n",
              "      <td>perform scripted dialogue</td>\n",
              "      <td>particle animation</td>\n",
              "      <td>animate 3D organic forms</td>\n",
              "    </tr>\n",
              "    <tr>\n",
              "      <th>1</th>\n",
              "      <td>3D modeller</td>\n",
              "      <td>create 3D environments</td>\n",
              "      <td>create 3D characters</td>\n",
              "      <td>animate 3D organic forms</td>\n",
              "      <td>create storyboards</td>\n",
              "      <td>create digital images</td>\n",
              "      <td>render 3D images</td>\n",
              "      <td>create moving images</td>\n",
              "      <td>apply 3D imaging techniques</td>\n",
              "      <td>use CAD for soles</td>\n",
              "      <td>create set models</td>\n",
              "    </tr>\n",
              "    <tr>\n",
              "      <th>2</th>\n",
              "      <td>3D printing technician</td>\n",
              "      <td>use CAD for soles</td>\n",
              "      <td>use CAD for heels</td>\n",
              "      <td>use CAD for lasts</td>\n",
              "      <td>operate testbeds</td>\n",
              "      <td>read engineering drawings</td>\n",
              "      <td>create 3D CAD footwear prototypes</td>\n",
              "      <td>maintain library equipment</td>\n",
              "      <td>operate 2D CAD for footwear pattern engineering</td>\n",
              "      <td>design microelectromechanical systems</td>\n",
              "      <td>assist in ship maintenance</td>\n",
              "    </tr>\n",
              "    <tr>\n",
              "      <th>3</th>\n",
              "      <td>ATM repair technician</td>\n",
              "      <td>maintain operations of vending machines</td>\n",
              "      <td>provide advice to technicians</td>\n",
              "      <td>use tools for castings repair</td>\n",
              "      <td>maintain mechanical equipment</td>\n",
              "      <td>maintain vehicle service</td>\n",
              "      <td>repair edge banding machinery</td>\n",
              "      <td>maintain water storage equipment</td>\n",
              "      <td>coordinate automotive repair and maintenance s...</td>\n",
              "      <td>repair slitting machinery</td>\n",
              "      <td>maintain water distribution equipment</td>\n",
              "    </tr>\n",
              "    <tr>\n",
              "      <th>4</th>\n",
              "      <td>Freinet school teacher</td>\n",
              "      <td>apply Freinet teaching strategies</td>\n",
              "      <td>Freinet teaching principles</td>\n",
              "      <td>Montessori teaching principles</td>\n",
              "      <td>teach teaching principles</td>\n",
              "      <td>apply Montessori teaching strategies</td>\n",
              "      <td>apply teaching strategies</td>\n",
              "      <td>teach dance</td>\n",
              "      <td>adapt teaching to student's capabilities</td>\n",
              "      <td>advise on lesson plans</td>\n",
              "      <td>provide learning support</td>\n",
              "    </tr>\n",
              "  </tbody>\n",
              "</table>\n",
              "</div>"
            ],
            "text/plain": [
              "                      Job  ...                       tenth_best_skill\n",
              "0             3D animator  ...               animate 3D organic forms\n",
              "1             3D modeller  ...                      create set models\n",
              "2  3D printing technician  ...             assist in ship maintenance\n",
              "3   ATM repair technician  ...  maintain water distribution equipment\n",
              "4  Freinet school teacher  ...               provide learning support\n",
              "\n",
              "[5 rows x 11 columns]"
            ]
          },
          "metadata": {
            "tags": []
          },
          "execution_count": 50
        }
      ]
    },
    {
      "cell_type": "code",
      "metadata": {
        "id": "P7tmDhE3xf5X",
        "colab_type": "code",
        "colab": {}
      },
      "source": [
        "data.to_pickle('drive/My Drive/ESCO_JOB_SKILL.pkl')"
      ],
      "execution_count": 0,
      "outputs": []
    },
    {
      "cell_type": "code",
      "metadata": {
        "id": "3SCNDPv5yPkS",
        "colab_type": "code",
        "colab": {}
      },
      "source": [
        ""
      ],
      "execution_count": 0,
      "outputs": []
    }
  ]
}